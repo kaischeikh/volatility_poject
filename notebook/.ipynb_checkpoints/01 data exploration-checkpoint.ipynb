{
 "cells": [
  {
   "cell_type": "markdown",
   "id": "fe4e0e11",
   "metadata": {},
   "source": [
    "# Data exploration"
   ]
  },
  {
   "cell_type": "code",
   "execution_count": null,
   "id": "e1296a40",
   "metadata": {},
   "outputs": [],
   "source": [
    "%matplotlib inline\n",
    "\n",
    "%load_ext autoreload\n",
    "%autoreload 2"
   ]
  },
  {
   "cell_type": "code",
   "execution_count": null,
   "id": "6f6d9fa6",
   "metadata": {},
   "outputs": [],
   "source": [
    "import pandas as pd\n",
    "import numpy as np\n",
    "\n",
    "import matplotlib.pyplot as plt\n",
    "import plotly.express as px\n",
    "\n",
    "from pathlib import Path"
   ]
  },
  {
   "cell_type": "code",
   "execution_count": null,
   "id": "5ae4c468",
   "metadata": {},
   "outputs": [],
   "source": [
    "from src.path import DATA_PATH, OUTPUT_PATH\n",
    "from src.grecs import compute_theta"
   ]
  },
  {
   "cell_type": "markdown",
   "id": "6a604d44",
   "metadata": {},
   "source": [
    "## Parameters"
   ]
  },
  {
   "cell_type": "code",
   "execution_count": null,
   "id": "cc3c33ab",
   "metadata": {},
   "outputs": [],
   "source": [
    "filename = \"EURO-DINAR-TUNISIE-data.xlsx\"\n",
    "filepath = DATA_PATH / filename"
   ]
  },
  {
   "cell_type": "markdown",
   "id": "884036e5",
   "metadata": {},
   "source": [
    "## Read data "
   ]
  },
  {
   "cell_type": "code",
   "execution_count": null,
   "id": "3e502851",
   "metadata": {},
   "outputs": [],
   "source": [
    "df = pd.read_excel(filepath)"
   ]
  },
  {
   "cell_type": "code",
   "execution_count": null,
   "id": "e5e6e823",
   "metadata": {},
   "outputs": [],
   "source": [
    "df.describe()"
   ]
  },
  {
   "cell_type": "code",
   "execution_count": null,
   "id": "0eb9bbad",
   "metadata": {},
   "outputs": [],
   "source": [
    "df.devise.unique()"
   ]
  },
  {
   "cell_type": "code",
   "execution_count": null,
   "id": "b99059b7",
   "metadata": {},
   "outputs": [],
   "source": [
    "df.set_index(\"date\", inplace=True)"
   ]
  },
  {
   "cell_type": "code",
   "execution_count": null,
   "id": "b3e730ae",
   "metadata": {},
   "outputs": [],
   "source": [
    "df.index"
   ]
  },
  {
   "cell_type": "code",
   "execution_count": null,
   "id": "e7061de2",
   "metadata": {},
   "outputs": [],
   "source": [
    "pd.date_range(\n",
    "    start=\"2021-01-01\",\n",
    "    end=\"2021-12-31\",\n",
    ").difference(df.index)"
   ]
  },
  {
   "cell_type": "code",
   "execution_count": null,
   "id": "4bfe7bb2",
   "metadata": {},
   "outputs": [],
   "source": [
    "theta = compute_theta(df)"
   ]
  },
  {
   "cell_type": "code",
   "execution_count": null,
   "id": "6233408f",
   "metadata": {},
   "outputs": [],
   "source": [
    "plt.figure(figsize=(24, 18))\n",
    "theta.plot(title=\"$ \\\\theta = \\\\frac{\\partial \\phi}{\\partial t} $\")\n",
    "plt.ylabel(\"$\\\\theta$\")\n",
    "plt.show()"
   ]
  },
  {
   "cell_type": "markdown",
   "id": "bf33f5b4",
   "metadata": {},
   "source": [
    "# End of script"
   ]
  },
  {
   "cell_type": "code",
   "execution_count": null,
   "id": "1a2c8e1d",
   "metadata": {},
   "outputs": [],
   "source": []
  }
 ],
 "metadata": {
  "kernelspec": {
   "display_name": "math_porject",
   "language": "python",
   "name": "math_porject"
  },
  "language_info": {
   "codemirror_mode": {
    "name": "ipython",
    "version": 3
   },
   "file_extension": ".py",
   "mimetype": "text/x-python",
   "name": "python",
   "nbconvert_exporter": "python",
   "pygments_lexer": "ipython3",
   "version": "3.9.7"
  },
  "toc": {
   "base_numbering": 1,
   "nav_menu": {},
   "number_sections": true,
   "sideBar": true,
   "skip_h1_title": false,
   "title_cell": "Table of Contents",
   "title_sidebar": "Contents",
   "toc_cell": false,
   "toc_position": {},
   "toc_section_display": true,
   "toc_window_display": true
  }
 },
 "nbformat": 4,
 "nbformat_minor": 5
}
